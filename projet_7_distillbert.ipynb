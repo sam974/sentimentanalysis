{
 "cells": [
  {
   "cell_type": "code",
   "execution_count": 1,
   "id": "652003cc",
   "metadata": {},
   "outputs": [
    {
     "name": "stdout",
     "output_type": "stream",
     "text": [
      "Aperçu des 5 premières lignes du tableau de données :\n",
      "   sentiment          id                          date     query  \\\n",
      "0          0  1467810369  Mon Apr 06 22:19:45 PDT 2009  NO_QUERY   \n",
      "1          0  1467810672  Mon Apr 06 22:19:49 PDT 2009  NO_QUERY   \n",
      "2          0  1467810917  Mon Apr 06 22:19:53 PDT 2009  NO_QUERY   \n",
      "3          0  1467811184  Mon Apr 06 22:19:57 PDT 2009  NO_QUERY   \n",
      "4          0  1467811193  Mon Apr 06 22:19:57 PDT 2009  NO_QUERY   \n",
      "\n",
      "              user                                               text  \n",
      "0  _TheSpecialOne_  @switchfoot http://twitpic.com/2y1zl - Awww, t...  \n",
      "1    scotthamilton  is upset that he can't update his Facebook by ...  \n",
      "2         mattycus  @Kenichan I dived many times for the ball. Man...  \n",
      "3          ElleCTF    my whole body feels itchy and like its on fire   \n",
      "4           Karoli  @nationwideclass no, it's not behaving at all....  \n"
     ]
    }
   ],
   "source": [
    "# Import de la bibliothèque essentielle pour la manipulation de données\n",
    "import pandas as pd\n",
    "\n",
    "# On définit des noms de colonnes clairs\n",
    "column_names = ['sentiment', 'id', 'date', 'query', 'user', 'text']\n",
    "\n",
    "# Chargement des données dans un \"DataFrame\"\n",
    "df = pd.read_csv(\"./input/training.1600000.processed.noemoticon.csv\", names=column_names, encoding=\"latin-1\")\n",
    "\n",
    "# On remplace la valeur 4 par 1 dans la colonne 'sentiment' pour la rendre binaire (0 ou 1)\n",
    "df['sentiment'] = df['sentiment'].replace(4, 1)\n",
    "\n",
    "# Affichage des 5 premières lignes pour un premier aperçu\n",
    "print(\"Aperçu des 5 premières lignes du tableau de données :\")\n",
    "print(df.head())"
   ]
  },
  {
   "cell_type": "code",
   "execution_count": 2,
   "id": "mlflow-setup",
   "metadata": {},
   "outputs": [
    {
     "name": "stdout",
     "output_type": "stream",
     "text": [
      "MLflow configuré pour l'expérience: 'Analyse de Sentiments - Twitter'\n"
     ]
    }
   ],
   "source": [
    "import mlflow\n",
    "import mlflow.sklearn\n",
    "import mlflow.transformers\n",
    "\n",
    "# Configuration de l'URI de suivi pour MLflow\n",
    "# Les données seront sauvegardées dans le répertoire /mlflow à l'intérieur du conteneur Docker\n",
    "# qui est mappé sur /home/samuel/mlflow_data sur la machine hôte.\n",
    "# mlflow.set_tracking_uri(\"file:/home/samuel/mlflow\")\n",
    "mlflow.set_tracking_uri(\"file:/mlflow\")\n",
    "\n",
    "# Définition du nom de l'expérience\n",
    "experiment_name = \"Analyse de Sentiments - Twitter\"\n",
    "mlflow.set_experiment(experiment_name)\n",
    "\n",
    "print(f\"MLflow configuré pour l'expérience: '{experiment_name}'\")"
   ]
  },
  {
   "cell_type": "code",
   "execution_count": 3,
   "id": "3df60580",
   "metadata": {},
   "outputs": [
    {
     "data": {
      "text/html": [
       "<div>\n",
       "<style scoped>\n",
       "    .dataframe tbody tr th:only-of-type {\n",
       "        vertical-align: middle;\n",
       "    }\n",
       "\n",
       "    .dataframe tbody tr th {\n",
       "        vertical-align: top;\n",
       "    }\n",
       "\n",
       "    .dataframe thead th {\n",
       "        text-align: right;\n",
       "    }\n",
       "</style>\n",
       "<table border=\"1\" class=\"dataframe\">\n",
       "  <thead>\n",
       "    <tr style=\"text-align: right;\">\n",
       "      <th></th>\n",
       "      <th>sentiment</th>\n",
       "      <th>id</th>\n",
       "    </tr>\n",
       "  </thead>\n",
       "  <tbody>\n",
       "    <tr>\n",
       "      <th>count</th>\n",
       "      <td>1600000.0</td>\n",
       "      <td>1.600000e+06</td>\n",
       "    </tr>\n",
       "    <tr>\n",
       "      <th>mean</th>\n",
       "      <td>0.5</td>\n",
       "      <td>1.998818e+09</td>\n",
       "    </tr>\n",
       "    <tr>\n",
       "      <th>std</th>\n",
       "      <td>0.5</td>\n",
       "      <td>1.935761e+08</td>\n",
       "    </tr>\n",
       "    <tr>\n",
       "      <th>min</th>\n",
       "      <td>0.0</td>\n",
       "      <td>1.467810e+09</td>\n",
       "    </tr>\n",
       "    <tr>\n",
       "      <th>25%</th>\n",
       "      <td>0.0</td>\n",
       "      <td>1.956916e+09</td>\n",
       "    </tr>\n",
       "    <tr>\n",
       "      <th>50%</th>\n",
       "      <td>0.5</td>\n",
       "      <td>2.002102e+09</td>\n",
       "    </tr>\n",
       "    <tr>\n",
       "      <th>75%</th>\n",
       "      <td>1.0</td>\n",
       "      <td>2.177059e+09</td>\n",
       "    </tr>\n",
       "    <tr>\n",
       "      <th>max</th>\n",
       "      <td>1.0</td>\n",
       "      <td>2.329206e+09</td>\n",
       "    </tr>\n",
       "  </tbody>\n",
       "</table>\n",
       "</div>"
      ],
      "text/plain": [
       "       sentiment            id\n",
       "count  1600000.0  1.600000e+06\n",
       "mean         0.5  1.998818e+09\n",
       "std          0.5  1.935761e+08\n",
       "min          0.0  1.467810e+09\n",
       "25%          0.0  1.956916e+09\n",
       "50%          0.5  2.002102e+09\n",
       "75%          1.0  2.177059e+09\n",
       "max          1.0  2.329206e+09"
      ]
     },
     "execution_count": 3,
     "metadata": {},
     "output_type": "execute_result"
    }
   ],
   "source": [
    "df.describe()"
   ]
  },
  {
   "cell_type": "code",
   "execution_count": 4,
   "id": "d3241b45",
   "metadata": {},
   "outputs": [
    {
     "name": "stdout",
     "output_type": "stream",
     "text": [
      "Dimensions du tableau : (1600000, 6)\n",
      "------------------------------\n",
      "Informations sur le DataFrame :\n",
      "<class 'pandas.core.frame.DataFrame'>\n",
      "RangeIndex: 1600000 entries, 0 to 1599999\n",
      "Data columns (total 6 columns):\n",
      " #   Column     Non-Null Count    Dtype \n",
      "---  ------     --------------    ----- \n",
      " 0   sentiment  1600000 non-null  int64 \n",
      " 1   id         1600000 non-null  int64 \n",
      " 2   date       1600000 non-null  object\n",
      " 3   query      1600000 non-null  object\n",
      " 4   user       1600000 non-null  object\n",
      " 5   text       1600000 non-null  object\n",
      "dtypes: int64(2), object(4)\n",
      "memory usage: 73.2+ MB\n",
      "------------------------------\n",
      "Distribution des sentiments :\n",
      "sentiment\n",
      "0    800000\n",
      "1    800000\n",
      "Name: count, dtype: int64\n"
     ]
    }
   ],
   "source": [
    "# 1. Obtenir les dimensions du tableau (nombre de lignes, nombre de colonnes)\n",
    "print(f\"Dimensions du tableau : {df.shape}\")\n",
    "print(\"-\" * 30)\n",
    "\n",
    "# 2. Obtenir un résumé des informations (types de données, valeurs non nulles)\n",
    "print(\"Informations sur le DataFrame :\")\n",
    "df.info()\n",
    "print(\"-\" * 30)\n",
    "\n",
    "# 3. Compter le nombre de tweets pour chaque sentiment\n",
    "# La colonne 'is_negative' contient notre label : 1 pour négatif, 0 pour non-négatif\n",
    "print(\"Distribution des sentiments :\")\n",
    "print(df['sentiment'].value_counts())"
   ]
  },
  {
   "cell_type": "code",
   "execution_count": 5,
   "id": "281d2f96",
   "metadata": {},
   "outputs": [
    {
     "name": "stdout",
     "output_type": "stream",
     "text": [
      "Original text:  @switchfoot http://twitpic.com/2y1zl - Awww, that's a bummer.  You shoulda got David Carr of Third Day to do it. ;D\n",
      "Cleaned text:    httptwitpiccom2y1zl  awww thats a bummer  you shoulda got david carr of third day to do it d\n"
     ]
    }
   ],
   "source": [
    "import re\n",
    "import string # A pre-built list of all punctuation marks\n",
    "\n",
    "\n",
    "# This function removes the three main types of \"noise\"\n",
    "def clean_text(text):\n",
    "    text = re.sub(r'https://\\S+|www\\.\\S+', '', text) # Remove URLs\n",
    "    text = re.sub(r'@\\w+', '', text)                # Remove mentions\n",
    "    text = re.sub(r'#', '', text)                   # Remove the '#' symbol\n",
    "    text = text.lower()                            # Convert to lowercase\n",
    "    # Remove all characters that are in the string.punctuation list\n",
    "    text = re.sub(f'[{re.escape(string.punctuation)}]', '', text) \n",
    "    return text\n",
    "\n",
    "# We apply this function to every tweet in the 'text' column\n",
    "df['cleaned_text'] = df['text'].apply(clean_text)\n",
    "\n",
    "# Let's check the result on one example\n",
    "print(\"Original text: \", df['text'].iloc[0])\n",
    "print(\"Cleaned text:  \", df['cleaned_text'].iloc[0])"
   ]
  },
  {
   "cell_type": "code",
   "execution_count": 6,
   "id": "b7951f3e",
   "metadata": {},
   "outputs": [
    {
     "name": "stderr",
     "output_type": "stream",
     "text": [
      "[nltk_data] Downloading package punkt to /root/nltk_data...\n",
      "[nltk_data]   Package punkt is already up-to-date!\n",
      "[nltk_data] Downloading package stopwords to /root/nltk_data...\n",
      "[nltk_data]   Package stopwords is already up-to-date!\n",
      "[nltk_data] Downloading package punkt_tab to /root/nltk_data...\n",
      "[nltk_data]   Package punkt_tab is already up-to-date!\n"
     ]
    },
    {
     "name": "stdout",
     "output_type": "stream",
     "text": [
      "Cleaned text:  httptwitpiccom2y1zl  awww thats a bummer  you shoulda got david carr of third day to do it d\n",
      "Final tokens: ['httptwitpiccom2y1zl', 'awww', 'thats', 'bummer', 'shoulda', 'got', 'david', 'carr', 'third', 'day']\n"
     ]
    }
   ],
   "source": [
    "# We'll use a popular library for this called NLTK\n",
    "import nltk\n",
    "from nltk.tokenize import word_tokenize\n",
    "from nltk.corpus import stopwords\n",
    "\n",
    "# These lines download the necessary tools from NLTK (you only need to run them once)\n",
    "nltk.download('punkt')\n",
    "nltk.download('stopwords')\n",
    "nltk.download('punkt_tab') # Ajout suite à une LookupError\n",
    "\n",
    "# Load the list of English stop words\n",
    "stop_words = set(stopwords.words('english'))\n",
    "\n",
    "# Apply tokenization and stop word removal\n",
    "df['tokens'] = df['cleaned_text'].apply(lambda text: [word for word in word_tokenize(text) if word not in stop_words])\n",
    "\n",
    "# Let's check our example one last time\n",
    "print(\"Cleaned text:\", df['cleaned_text'].iloc[0])\n",
    "print(\"Final tokens:\", df['tokens'].iloc[0])"
   ]
  },
  {
   "cell_type": "code",
   "execution_count": 7,
   "id": "6a6391e2",
   "metadata": {},
   "outputs": [
    {
     "name": "stdout",
     "output_type": "stream",
     "text": [
      "Shape of our feature matrix X: (1600000, 5000)\n",
      "Shape of our target vector y: (1600000,)\n"
     ]
    }
   ],
   "source": [
    "from sklearn.feature_extraction.text import TfidfVectorizer\n",
    "\n",
    "# The vectorizer needs sentences, so we join our tokens back into a single string\n",
    "df['final_text'] = df['tokens'].apply(lambda tokens: ' '.join(tokens))\n",
    "\n",
    "# Initialize the TF-IDF Vectorizer\n",
    "# We'll limit it to the 5,000 most important words to keep it efficient\n",
    "vectorizer = TfidfVectorizer(max_features=5000)\n",
    "\n",
    "# Create the numerical feature matrix X by applying the vectorizer\n",
    "X = vectorizer.fit_transform(df['final_text'])\n",
    "\n",
    "# Define our target variable y (the sentiment column)\n",
    "y = df['sentiment']\n",
    "\n",
    "# Check the final shapes\n",
    "print(\"Shape of our feature matrix X:\", X.shape)\n",
    "print(\"Shape of our target vector y:\", y.shape)"
   ]
  },
  {
   "cell_type": "code",
   "execution_count": 8,
   "id": "5d18b388",
   "metadata": {},
   "outputs": [
    {
     "name": "stdout",
     "output_type": "stream",
     "text": [
      "Training data shape: (1280000, 5000)\n",
      "Testing data shape: (320000, 5000)\n"
     ]
    }
   ],
   "source": [
    "from sklearn.model_selection import train_test_split\n",
    "\n",
    "# Split our data X and our labels y\n",
    "# test_size=0.2 means 20% of the data is reserved for testing\n",
    "# random_state=42 ensures we get the same split every time we run the code\n",
    "X_train, X_test, y_train, y_test = train_test_split(\n",
    "    X, y, test_size=0.2, random_state=42\n",
    ")\n",
    "\n",
    "# Let's print the shapes to see the result\n",
    "print(f\"Training data shape: {X_train.shape}\")\n",
    "print(f\"Testing data shape: {X_test.shape}\")"
   ]
  },
  {
   "cell_type": "code",
   "execution_count": 9,
   "id": "8e4147e5",
   "metadata": {
    "scrolled": true
   },
   "outputs": [
    {
     "name": "stdout",
     "output_type": "stream",
     "text": [
      "Démarrage de l'expérimentation avec MLflow pour Logistic Regression...\n",
      "Training the model...\n",
      "Model training is complete!\n",
      "Making predictions on the test data...\n",
      "\n",
      "Overall Accuracy: 0.77\n",
      "\n",
      "Classification Report:\n",
      "                 precision    recall  f1-score   support\n",
      "\n",
      "Non-négatif (0)       0.78      0.75      0.77    159494\n",
      "    Négatif (1)       0.76      0.80      0.78    160506\n",
      "\n",
      "       accuracy                           0.77    320000\n",
      "      macro avg       0.77      0.77      0.77    320000\n",
      "   weighted avg       0.77      0.77      0.77    320000\n",
      "\n",
      "\n",
      "Modèle et métriques enregistrés dans MLflow.\n"
     ]
    }
   ],
   "source": [
    "from sklearn.metrics import accuracy_score, classification_report\n",
    "from sklearn.linear_model import LogisticRegression\n",
    "\n",
    "with mlflow.start_run(run_name=\"Logistic Regression (TF-IDF)\") as run:\n",
    "    print(\"Démarrage de l'expérimentation avec MLflow pour Logistic Regression...\")\n",
    "    \n",
    "    # 1. Création et entraînement du modèle\n",
    "    model_lr = LogisticRegression(max_iter=1000)\n",
    "    print(\"Training the model...\")\n",
    "    model_lr.fit(X_train, y_train)\n",
    "    print(\"Model training is complete!\")\n",
    "\n",
    "    # 2. Prédictions et évaluation\n",
    "    print(\"Making predictions on the test data...\")\n",
    "    y_pred = model_lr.predict(X_test)\n",
    "    accuracy = accuracy_score(y_test, y_pred)\n",
    "    report = classification_report(y_test, y_pred, target_names=['Non-négatif (0)', 'Négatif (1)'], output_dict=True)\n",
    "    \n",
    "    print(f\"\\nOverall Accuracy: {accuracy:.2f}\")\n",
    "    print(\"\\nClassification Report:\")\n",
    "    print(classification_report(y_test, y_pred, target_names=['Non-négatif (0)', 'Négatif (1)']))\n",
    "\n",
    "    # 3. Suivi avec MLflow\n",
    "    mlflow.log_param(\"model_type\", \"LogisticRegression\")\n",
    "    mlflow.log_param(\"vectorizer\", \"TfidfVectorizer\")\n",
    "    mlflow.log_param(\"tfidf_max_features\", 5000)\n",
    "    mlflow.log_metric(\"accuracy\", accuracy)\n",
    "\n",
    "    # Nettoyage des noms de métriques pour MLflow\n",
    "    # Les noms ne doivent pas contenir de caractères spéciaux comme '()' ou des accents\n",
    "    cleaned_report = {}\n",
    "    for key, value in report.items():\n",
    "        if isinstance(value, dict):\n",
    "            cleaned_key = key.replace(' (0)', '_0').replace(' (1)', '_1').replace('-', '_')\n",
    "            cleaned_report[cleaned_key] = value\n",
    "        else:\n",
    "            cleaned_report[key] = value\n",
    "    mlflow.log_metrics({f\"precision_{k}\": v['precision'] for k, v in cleaned_report.items() if isinstance(v, dict)})\n",
    "    mlflow.log_metrics({f\"recall_{k}\": v['recall'] for k, v in cleaned_report.items() if isinstance(v, dict)})\n",
    "    mlflow.log_metrics({f\"f1_score_{k}\": v['f1-score'] for k, v in cleaned_report.items() if isinstance(v, dict)})\n",
    "    # Sauvegarde du rapport de classification\n",
    "    mlflow.log_text(classification_report(y_test, y_pred, target_names=['Non-négatif (0)', 'Négatif (1)']), \"classification_report.txt\")\n",
    "    \n",
    "    # Sauvegarde du modèle avec une signature et un exemple d'entrée\n",
    "    # Cela aide MLflow à comprendre le format des données attendues et produites\n",
    "    from mlflow.models.signature import infer_signature\n",
    "    signature = infer_signature(X_train, y_pred)\n",
    "    input_example = X_train[:5] # Un petit échantillon des données d'entrée\n",
    "    mlflow.sklearn.log_model(model_lr, name=\"logistic_regression_model\", signature=signature, input_example=input_example)\n",
    "    \n",
    "    print(\"\\nModèle et métriques enregistrés dans MLflow.\")"
   ]
  },
  {
   "cell_type": "code",
   "execution_count": 10,
   "id": "a217cef0",
   "metadata": {},
   "outputs": [
    {
     "name": "stderr",
     "output_type": "stream",
     "text": [
      "2025-10-21 12:23:26.798198: E external/local_xla/xla/stream_executor/cuda/cuda_fft.cc:467] Unable to register cuFFT factory: Attempting to register factory for plugin cuFFT when one has already been registered\n",
      "WARNING: All log messages before absl::InitializeLog() is called are written to STDERR\n",
      "E0000 00:00:1761049406.971835   26104 cuda_dnn.cc:8579] Unable to register cuDNN factory: Attempting to register factory for plugin cuDNN when one has already been registered\n",
      "E0000 00:00:1761049407.036225   26104 cuda_blas.cc:1407] Unable to register cuBLAS factory: Attempting to register factory for plugin cuBLAS when one has already been registered\n",
      "W0000 00:00:1761049407.430917   26104 computation_placer.cc:177] computation placer already registered. Please check linkage and avoid linking the same target more than once.\n",
      "W0000 00:00:1761049407.430989   26104 computation_placer.cc:177] computation placer already registered. Please check linkage and avoid linking the same target more than once.\n",
      "W0000 00:00:1761049407.430999   26104 computation_placer.cc:177] computation placer already registered. Please check linkage and avoid linking the same target more than once.\n",
      "W0000 00:00:1761049407.431007   26104 computation_placer.cc:177] computation placer already registered. Please check linkage and avoid linking the same target more than once.\n",
      "2025-10-21 12:23:27.481018: I tensorflow/core/platform/cpu_feature_guard.cc:210] This TensorFlow binary is optimized to use available CPU instructions in performance-critical operations.\n",
      "To enable the following instructions: AVX2 FMA, in other operations, rebuild TensorFlow with the appropriate compiler flags.\n",
      "Some weights of DistilBertForSequenceClassification were not initialized from the model checkpoint at distilbert-base-uncased and are newly initialized: ['classifier.bias', 'classifier.weight', 'pre_classifier.bias', 'pre_classifier.weight']\n",
      "You should probably TRAIN this model on a down-stream task to be able to use it for predictions and inference.\n"
     ]
    },
    {
     "name": "stdout",
     "output_type": "stream",
     "text": [
      "DistilBERT model and its tokenizer are loaded and ready!\n"
     ]
    }
   ],
   "source": [
    "# We'll use the same powerful libraries as before\n",
    "import os\n",
    "\n",
    "# Disable the progress bar from huggingface_hub to avoid LookupError in some notebook environments\n",
    "os.environ[\"HF_HUB_DISABLE_PROGRESS_BARS\"] = \"1\"\n",
    "\n",
    "from transformers import AutoTokenizer, AutoModelForSequenceClassification\n",
    "\n",
    "# The correct, English-based model name\n",
    "model_name = \"distilbert-base-uncased\"\n",
    "\n",
    "# 1. Load the Tokenizer for DistilBERT\n",
    "tokenizer = AutoTokenizer.from_pretrained(model_name)\n",
    "\n",
    "# 2. Load the DistilBERT model for sequence classification (with 2 labels)\n",
    "model = AutoModelForSequenceClassification.from_pretrained(model_name, num_labels=2)\n",
    "\n",
    "print(\"DistilBERT model and its tokenizer are loaded and ready!\")"
   ]
  },
  {
   "cell_type": "code",
   "execution_count": 11,
   "id": "7cf7b732",
   "metadata": {},
   "outputs": [
    {
     "name": "stdout",
     "output_type": "stream",
     "text": [
      "Original Sentence:\n",
      " i love the new flight attendant service\n",
      "\n",
      "Token IDs (input_ids):\n",
      " tensor([[  101,  1045,  2293,  1996,  2047,  3462, 16742,  2326,   102,     0,\n",
      "             0,     0,     0,     0,     0,     0,     0,     0,     0,     0,\n",
      "             0,     0,     0,     0,     0,     0,     0,     0,     0,     0,\n",
      "             0,     0,     0,     0,     0,     0,     0,     0,     0,     0,\n",
      "             0,     0,     0,     0,     0,     0,     0,     0,     0,     0,\n",
      "             0,     0,     0,     0,     0,     0,     0,     0,     0,     0,\n",
      "             0,     0,     0,     0]])\n",
      "\n",
      "Attention Mask:\n",
      " tensor([[1, 1, 1, 1, 1, 1, 1, 1, 1, 0, 0, 0, 0, 0, 0, 0, 0, 0, 0, 0, 0, 0, 0, 0,\n",
      "         0, 0, 0, 0, 0, 0, 0, 0, 0, 0, 0, 0, 0, 0, 0, 0, 0, 0, 0, 0, 0, 0, 0, 0,\n",
      "         0, 0, 0, 0, 0, 0, 0, 0, 0, 0, 0, 0, 0, 0, 0, 0]])\n"
     ]
    }
   ],
   "source": [
    "# A sample tweet from our dataset\n",
    "sample_text = \"i love the new flight attendant service\"\n",
    "\n",
    "# Use the tokenizer to process the text\n",
    "# padding='max_length' and truncation=True ensure all sentences are the same size\n",
    "encoding = tokenizer(sample_text, \n",
    "                     padding='max_length', \n",
    "                     truncation=True, \n",
    "                     max_length=64, # A common length for tweets\n",
    "                     return_tensors='pt') # Return as PyTorch tensors\n",
    "\n",
    "print(\"Original Sentence:\\n\", sample_text)\n",
    "print(\"\\nToken IDs (input_ids):\\n\", encoding['input_ids'])\n",
    "print(\"\\nAttention Mask:\\n\", encoding['attention_mask'])"
   ]
  },
  {
   "cell_type": "code",
   "execution_count": 12,
   "id": "20182ff2",
   "metadata": {},
   "outputs": [],
   "source": [
    "import torch\n",
    "from torch.utils.data import Dataset\n",
    "\n",
    "class SentimentDataset(Dataset):\n",
    "    def __init__(self, texts, labels, tokenizer, max_len):\n",
    "        self.texts = texts\n",
    "        self.labels = labels\n",
    "        self.tokenizer = tokenizer\n",
    "        self.max_len = max_len\n",
    "\n",
    "    def __len__(self):\n",
    "        return len(self.texts)\n",
    "\n",
    "    def __getitem__(self, idx):\n",
    "        text = str(self.texts[idx])\n",
    "        label = int(self.labels[idx])\n",
    "\n",
    "        encoding = self.tokenizer(\n",
    "            text,\n",
    "            add_special_tokens=True,\n",
    "            max_length=self.max_len,\n",
    "            padding='max_length',\n",
    "            truncation=True,\n",
    "            return_attention_mask=True,\n",
    "            return_tensors='pt',\n",
    "        )\n",
    "\n",
    "        return {\n",
    "            'input_ids': encoding['input_ids'].flatten(),\n",
    "            'attention_mask': encoding['attention_mask'].flatten(),\n",
    "            'labels': torch.tensor(label, dtype=torch.long)\n",
    "        }\n",
    "\n",
    "# Let's create a smaller, manageable sample of our data for this demo\n",
    "sample_df = df.sample(n=16000, random_state=42)\n",
    "\n",
    "# Create an instance of our custom Dataset\n",
    "MAX_LEN = 64\n",
    "sentiment_dataset = SentimentDataset(\n",
    "    texts=sample_df.text.to_numpy(),\n",
    "    labels=sample_df.sentiment.to_numpy(),\n",
    "    tokenizer=tokenizer,\n",
    "    max_len=MAX_LEN\n",
    ")"
   ]
  },
  {
   "cell_type": "code",
   "execution_count": 13,
   "id": "49946c16",
   "metadata": {},
   "outputs": [
    {
     "name": "stdout",
     "output_type": "stream",
     "text": [
      "Number of batches in the training loader: 800\n",
      "Number of batches in the testing loader: 200\n"
     ]
    }
   ],
   "source": [
    "from torch.utils.data import DataLoader, random_split\n",
    "import numpy as np\n",
    "\n",
    "# 1. Split the main dataset\n",
    "train_size = int(0.8 * len(sentiment_dataset))\n",
    "test_size = len(sentiment_dataset) - train_size\n",
    "train_dataset, test_dataset = random_split(sentiment_dataset, [train_size, test_size])\n",
    "\n",
    "# 2. Create the DataLoaders for each set\n",
    "BATCH_SIZE = 16\n",
    "\n",
    "train_data_loader = DataLoader(\n",
    "  train_dataset,\n",
    "  batch_size=BATCH_SIZE,\n",
    "  shuffle=True\n",
    ")\n",
    "\n",
    "test_data_loader = DataLoader(\n",
    "  test_dataset,\n",
    "  batch_size=BATCH_SIZE\n",
    ")\n",
    "\n",
    "print(f\"Number of batches in the training loader: {len(train_data_loader)}\")\n",
    "print(f\"Number of batches in the testing loader: {len(test_data_loader)}\")"
   ]
  },
  {
   "cell_type": "code",
   "execution_count": 14,
   "id": "82e595f8",
   "metadata": {},
   "outputs": [
    {
     "data": {
      "application/vnd.jupyter.widget-view+json": {
       "model_id": "277f902689a14e4d93b24554b33d8dd1",
       "version_major": 2,
       "version_minor": 0
      },
      "text/plain": [
       "  0%|          | 0/800 [00:00<?, ?it/s]"
      ]
     },
     "metadata": {},
     "output_type": "display_data"
    },
    {
     "data": {
      "text/plain": [
       "DistilBertForSequenceClassification(\n",
       "  (distilbert): DistilBertModel(\n",
       "    (embeddings): Embeddings(\n",
       "      (word_embeddings): Embedding(30522, 768, padding_idx=0)\n",
       "      (position_embeddings): Embedding(512, 768)\n",
       "      (LayerNorm): LayerNorm((768,), eps=1e-12, elementwise_affine=True)\n",
       "      (dropout): Dropout(p=0.1, inplace=False)\n",
       "    )\n",
       "    (transformer): Transformer(\n",
       "      (layer): ModuleList(\n",
       "        (0-5): 6 x TransformerBlock(\n",
       "          (attention): DistilBertSdpaAttention(\n",
       "            (dropout): Dropout(p=0.1, inplace=False)\n",
       "            (q_lin): Linear(in_features=768, out_features=768, bias=True)\n",
       "            (k_lin): Linear(in_features=768, out_features=768, bias=True)\n",
       "            (v_lin): Linear(in_features=768, out_features=768, bias=True)\n",
       "            (out_lin): Linear(in_features=768, out_features=768, bias=True)\n",
       "          )\n",
       "          (sa_layer_norm): LayerNorm((768,), eps=1e-12, elementwise_affine=True)\n",
       "          (ffn): FFN(\n",
       "            (dropout): Dropout(p=0.1, inplace=False)\n",
       "            (lin1): Linear(in_features=768, out_features=3072, bias=True)\n",
       "            (lin2): Linear(in_features=3072, out_features=768, bias=True)\n",
       "            (activation): GELUActivation()\n",
       "          )\n",
       "          (output_layer_norm): LayerNorm((768,), eps=1e-12, elementwise_affine=True)\n",
       "        )\n",
       "      )\n",
       "    )\n",
       "  )\n",
       "  (pre_classifier): Linear(in_features=768, out_features=768, bias=True)\n",
       "  (classifier): Linear(in_features=768, out_features=2, bias=True)\n",
       "  (dropout): Dropout(p=0.2, inplace=False)\n",
       ")"
      ]
     },
     "execution_count": 14,
     "metadata": {},
     "output_type": "execute_result"
    }
   ],
   "source": [
    "from torch.optim import AdamW\n",
    "from tqdm.auto import tqdm # For a nice progress bar\n",
    "\n",
    "# 1. SETUP\n",
    "# Move model to GPU if available, otherwise CPU\n",
    "device = torch.device(\"cuda\" if torch.cuda.is_available() else \"cpu\")\n",
    "model.to(device)\n",
    "\n",
    "# Initialize the optimizer\n",
    "optimizer = AdamW(model.parameters(), lr=2e-5) # lr is the learning rate\n",
    "\n",
    "# 2. TRAINING LOOP\n",
    "model.train() # Set the model to training mode\n",
    "for batch in tqdm(train_data_loader):\n",
    "    # Move batch data to the correct device\n",
    "    input_ids = batch['input_ids'].to(device)\n",
    "    attention_mask = batch['attention_mask'].to(device)\n",
    "    labels = batch['labels'].to(device)\n",
    "\n",
    "    # Forward pass: get model outputs\n",
    "    outputs = model(input_ids=input_ids, attention_mask=attention_mask, labels=labels)\n",
    "    \n",
    "    # Get the loss (the measure of error)\n",
    "    loss = outputs.loss\n",
    "    \n",
    "    # Backward pass: calculate gradients\n",
    "    loss.backward()\n",
    "    \n",
    "    # Update weights\n",
    "    optimizer.step()\n",
    "    optimizer.zero_grad()\n",
    "\n",
    "# 3. EVALUATION LOOP\n",
    "model.eval() # Set the model to evaluation mode\n",
    "# ... similar loop over the test_data_loader, but without the optimizer steps ...\n",
    "# We would collect all predictions and then calculate accuracy, precision, and recall."
   ]
  },
  {
   "cell_type": "code",
   "execution_count": 17,
   "id": "63b9497e",
   "metadata": {},
   "outputs": [
    {
     "name": "stdout",
     "output_type": "stream",
     "text": [
      "--- Epoch 1 / 2 ---\n"
     ]
    },
    {
     "data": {
      "application/vnd.jupyter.widget-view+json": {
       "model_id": "4822e6e3a17f413a9e5209eebfd44905",
       "version_major": 2,
       "version_minor": 0
      },
      "text/plain": [
       "Training:   0%|          | 0/800 [00:00<?, ?it/s]"
      ]
     },
     "metadata": {},
     "output_type": "display_data"
    },
    {
     "name": "stdout",
     "output_type": "stream",
     "text": [
      "Evaluating...\n",
      "--- Epoch 2 / 2 ---\n"
     ]
    },
    {
     "data": {
      "application/vnd.jupyter.widget-view+json": {
       "model_id": "beff5f61e5384df1a669099d6fe5ec20",
       "version_major": 2,
       "version_minor": 0
      },
      "text/plain": [
       "Training:   0%|          | 0/800 [00:00<?, ?it/s]"
      ]
     },
     "metadata": {},
     "output_type": "display_data"
    },
    {
     "name": "stdout",
     "output_type": "stream",
     "text": [
      "Evaluating...\n"
     ]
    },
    {
     "data": {
      "application/vnd.jupyter.widget-view+json": {
       "model_id": "f7e3887a87c14ea1bbf7726828a8affe",
       "version_major": 2,
       "version_minor": 0
      },
      "text/plain": [
       "Evaluating:   0%|          | 0/200 [00:00<?, ?it/s]"
      ]
     },
     "metadata": {},
     "output_type": "display_data"
    },
    {
     "name": "stdout",
     "output_type": "stream",
     "text": [
      "\n",
      "Résultats pour l'Epoch 2:\n",
      "{'Non-négatif (0)': {'precision': 0.8107432854465959, 'recall': 0.8072139303482587, 'f1-score': 0.8089747584917419, 'support': 1608.0}, 'Négatif (1)': {'precision': 0.8061288305190745, 'recall': 0.8096733668341709, 'f1-score': 0.8078972109056722, 'support': 1592.0}, 'accuracy': 0.8084375, 'macro avg': {'precision': 0.8084360579828351, 'recall': 0.8084436485912148, 'f1-score': 0.808435984698707, 'support': 3200.0}, 'weighted avg': {'precision': 0.8084475941201541, 'recall': 0.8084375, 'f1-score': 0.8084386785676722, 'support': 3200.0}}\n",
      "Logged DistilBERT metrics to MLflow (run_id=065d03ecd45848d5a68234f85ccb1eb6) - accuracy=0.7736\n"
     ]
    },
    {
     "name": "stderr",
     "output_type": "stream",
     "text": [
      "Device set to use cpu\n"
     ]
    },
    {
     "name": "stdout",
     "output_type": "stream",
     "text": [
      "\n",
      "Entraînement terminé et modèle sauvegardé avec MLflow !\n"
     ]
    }
   ],
   "source": [
    "from torch.optim import AdamW\n",
    "from tqdm.auto import tqdm # Pour une belle barre de progression\n",
    "import torch\n",
    "from sklearn.metrics import classification_report, accuracy_score\n",
    "import numpy as np\n",
    "\n",
    "# Listes pour stocker les métriques\n",
    "history = {\n",
    "    'train_loss': [],\n",
    "    'accuracy': []\n",
    "}\n",
    "\n",
    "# 1. PRÉPARATION\n",
    "# Déplace le modèle sur le GPU si disponible, sinon le CPU\n",
    "device = torch.device(\"cuda\" if torch.cuda.is_available() else \"cpu\")\n",
    "model.to(device)\n",
    "\n",
    "# Initialise l'optimiseur, qui met à jour les poids du modèle\n",
    "optimizer = AdamW(model.parameters(), lr=2e-5)\n",
    "\n",
    "# Nombre d'époques (cycles d'entraînement complets)\n",
    "EPOCHS = 2\n",
    "\n",
    "# 2. BOUCLE D'ENTRAÎNEMENT PRINCIPALE\n",
    "with mlflow.start_run(run_name=\"DistilBERT\") as run:\n",
    "    # Log des hyperparamètres\n",
    "    mlflow.log_params({\"model_name\": model_name, \"epochs\": EPOCHS, \"learning_rate\": 2e-5, \"batch_size\": BATCH_SIZE, \"max_len\": MAX_LEN})\n",
    "    \n",
    "    for epoch in range(EPOCHS):\n",
    "        print(f'--- Epoch {epoch + 1} / {EPOCHS} ---')\n",
    "        \n",
    "        # -- Phase d'entraînement --\n",
    "        model.train() # Passe le modèle en mode \"entraînement\"\n",
    "        total_train_loss = 0\n",
    "\n",
    "        for batch in tqdm(train_data_loader, desc=\"Training\"):\n",
    "            # Déplace les données du batch sur le bon appareil (CPU ou GPU)\n",
    "            input_ids = batch['input_ids'].to(device)\n",
    "            attention_mask = batch['attention_mask'].to(device)\n",
    "            labels = batch['labels'].to(device)\n",
    "\n",
    "            # Réinitialise les gradients de l'itération précédente\n",
    "            optimizer.zero_grad()\n",
    "            \n",
    "            # Le modèle traite les données et calcule la perte (l'erreur)\n",
    "            outputs = model(input_ids=input_ids, attention_mask=attention_mask, labels=labels)\n",
    "            loss = outputs.loss\n",
    "            \n",
    "            # Rétropropagation : calcule comment ajuster les poids pour réduire l'erreur\n",
    "            loss.backward()\n",
    "            total_train_loss += loss.item()\n",
    "            \n",
    "            # L'optimiseur applique les ajustements aux poids du modèle\n",
    "            optimizer.step()\n",
    "\n",
    "        avg_train_loss = total_train_loss / len(train_data_loader)\n",
    "        history['train_loss'].append(avg_train_loss)\n",
    "\n",
    "        # Log de la perte d'entraînement pour l'époque\n",
    "        mlflow.log_metric(\"train_loss\", avg_train_loss, step=epoch)\n",
    "\n",
    "        # -- Phase d'évaluation --\n",
    "        print(\"Evaluating...\")\n",
    "        model.eval() # Passe le modèle en mode \"évaluation\"\n",
    "    \n",
    "    predictions, true_labels = [], []\n",
    "    \n",
    "    with torch.no_grad(): # Pas besoin de calculer les gradients pendant l'évaluation\n",
    "        for batch in tqdm(test_data_loader, desc=\"Evaluating\"):\n",
    "            # Déplace les données du batch sur le bon appareil\n",
    "            input_ids = batch['input_ids'].to(device)\n",
    "            attention_mask = batch['attention_mask'].to(device)\n",
    "            labels = batch['labels'].to(device)\n",
    "\n",
    "            # Le modèle fait ses prédictions\n",
    "            outputs = model(input_ids=input_ids, attention_mask=attention_mask)\n",
    "            \n",
    "            # On récupère la prédiction la plus probable (0 ou 1)\n",
    "            logits = outputs.logits\n",
    "            batch_predictions = torch.argmax(logits, dim=1)\n",
    "            \n",
    "            predictions.extend(batch_predictions.cpu().numpy())\n",
    "            true_labels.extend(labels.cpu().numpy())\n",
    "\n",
    "    val_accuracy = accuracy_score(true_labels, predictions)\n",
    "    history['accuracy'].append(val_accuracy)\n",
    "    \n",
    "    # Log de la précision de validation pour l'époque\n",
    "    mlflow.log_metric(\"accuracy\", val_accuracy, step=epoch)\n",
    "\n",
    "    # Affiche le rapport de classification pour l'époch en cours\n",
    "    # Sauvegarde du rapport de l'époque\n",
    "    report = classification_report(true_labels, predictions, target_names=['Non-négatif (0)', 'Négatif (1)'], output_dict=True)\n",
    "    print(f\"\\nRésultats pour l'Epoch {epoch + 1}:\")\n",
    "    print(report)\n",
    "\n",
    "    # Paramètres basiques\n",
    "    mlflow.log_param(\"model_type\", \"DistilBERT\")\n",
    "    mlflow.log_metric(\"accuracy\", accuracy)\n",
    "\n",
    "    # Nettoyage des clés pour MLflow (pas de caractères spéciaux)\n",
    "    cleaned_report = {}\n",
    "    for key, value in report.items():\n",
    "        if isinstance(value, dict):\n",
    "            cleaned_key = key.replace(' (0)', '_0').replace(' (1)', '_1').replace('-', '_')\n",
    "            cleaned_report[cleaned_key] = value\n",
    "        else:\n",
    "            cleaned_report[key] = value\n",
    "\n",
    "    # Log des métriques par classe (precision, recall, f1)\n",
    "    mlflow.log_metrics({f\"precision_{k}\": v['precision'] for k, v in cleaned_report.items() if isinstance(v, dict)})\n",
    "    mlflow.log_metrics({f\"recall_{k}\": v['recall'] for k, v in cleaned_report.items() if isinstance(v, dict)})\n",
    "    mlflow.log_metrics({f\"f1_score_{k}\": v['f1-score'] for k, v in cleaned_report.items() if isinstance(v, dict)})\n",
    "\n",
    "    # Sauvegarde du rapport complet en texte\n",
    "    mlflow.log_text(classification_report(true_labels, predictions, target_names=['Non-négatif (0)', 'Négatif (1)']), \"classification_report_distilbert.txt\")\n",
    "\n",
    "    print(f\"Logged DistilBERT metrics to MLflow (run_id={run.info.run_id}) - accuracy={accuracy:.4f}\")\n",
    "\n",
    "    # mlflow.log_text(report, f\"classification_report_epoch_{epoch+1}.txt\")\n",
    "\n",
    "    # Sauvegarde du modèle à la fin de chaque époque (ou seulement le meilleur)\n",
    "    # Pour cet exemple, nous sauvegardons le modèle de la dernière époque.\n",
    "    if epoch == EPOCHS - 1:\n",
    "        # Création d'un dictionnaire pour le modèle et le tokenizer\n",
    "        model_artifact = {\"model\": model, \"tokenizer\": tokenizer}\n",
    "        # Log du modèle avec le flavor 'transformers'\n",
    "        mlflow.transformers.log_model(\n",
    "            transformers_model=model_artifact,\n",
    "            name=\"distilbert_sentiment_model\"\n",
    "        )\n",
    "\n",
    "print(\"\\nEntraînement terminé et modèle sauvegardé avec MLflow !\")\n"
   ]
  },
  {
   "cell_type": "code",
   "execution_count": 18,
   "id": "7afb0029",
   "metadata": {},
   "outputs": [
    {
     "data": {
      "image/png": "[encoded data removed]",
      "text/plain": [
       "<Figure size 1200x500 with 2 Axes>"
      ]
     },
     "metadata": {},
     "output_type": "display_data"
    }
   ],
   "source": [
    "import matplotlib.pyplot as plt\n",
    "\n",
    "# Créer une figure avec deux graphiques\n",
    "fig, (ax1, ax2) = plt.subplots(1, 2, figsize=(12, 5))\n",
    "\n",
    "# Graphique de la perte d'entraînement\n",
    "ax1.plot(history['train_loss'], label='Perte d\\'entraînement')\n",
    "ax1.set_title('Évolution de la Perte')\n",
    "ax1.set_xlabel('Épochs')\n",
    "ax1.set_ylabel('Perte')\n",
    "ax1.legend()\n",
    "\n",
    "# Graphique de la précision de validation\n",
    "ax2.plot(history['accuracy'], label='Précision de validation', color='orange')\n",
    "ax2.set_title('Évolution de la Précision')\n",
    "ax2.set_xlabel('Épochs')\n",
    "ax2.set_ylabel('Précision')\n",
    "ax2.legend()\n",
    "\n",
    "plt.show()"
   ]
  },
  {
   "cell_type": "code",
   "execution_count": 19,
   "id": "4297669a",
   "metadata": {},
   "outputs": [
    {
     "name": "stdout",
     "output_type": "stream",
     "text": [
      "Sauvegarde du modèle dans le répertoire ./sentiment_distilbert_model/\n",
      "\n",
      "Modèle et tokenizer sauvegardés avec succès !\n"
     ]
    }
   ],
   "source": [
    "import os\n",
    "\n",
    "# 1. Définir le chemin du répertoire où tout sera sauvegardé\n",
    "output_dir = \"./sentiment_distilbert_model/\"\n",
    "\n",
    "# Crée le répertoire s'il n'existe pas\n",
    "os.makedirs(output_dir, exist_ok=True)\n",
    "\n",
    "print(f\"Sauvegarde du modèle dans le répertoire {output_dir}\")\n",
    "\n",
    "# 2. Sauvegarder le modèle fine-tuné\n",
    "model.save_pretrained(output_dir)\n",
    "\n",
    "# 3. Sauvegarder le tokenizer associé\n",
    "tokenizer.save_pretrained(output_dir)\n",
    "\n",
    "print(\"\\nModèle et tokenizer sauvegardés avec succès !\")"
   ]
  },
  {
   "cell_type": "code",
   "execution_count": 20,
   "id": "a83ef5d6",
   "metadata": {},
   "outputs": [
    {
     "name": "stdout",
     "output_type": "stream",
     "text": [
      "Le tweet : 'The flight was surprisingly on time and the crew was wonderful.'\n",
      "Result: 1\n",
      "Prédiction : Positif (1)\n"
     ]
    }
   ],
   "source": [
    "from transformers import AutoTokenizer, AutoModelForSequenceClassification\n",
    "import torch\n",
    "\n",
    "# 1. Définir le chemin où se trouve le modèle sauvegardé\n",
    "output_dir = \"./sentiment_distilbert_model/\"\n",
    "\n",
    "# 2. Charger le tokenizer depuis ce répertoire\n",
    "tokenizer = AutoTokenizer.from_pretrained(output_dir)\n",
    "\n",
    "# 3. Charger le modèle depuis ce répertoire\n",
    "model = AutoModelForSequenceClassification.from_pretrained(output_dir)\n",
    "\n",
    "# Mettons le modèle en mode évaluation (important !)\n",
    "model.eval()\n",
    "\n",
    "# 4. Utiliser le modèle pour une nouvelle prédiction\n",
    "new_tweet = \"The flight was surprisingly on time and the crew was wonderful.\"\n",
    "\n",
    "# Préparer le tweet avec le tokenizer (comme pendant l'entraînement)\n",
    "inputs = tokenizer(new_tweet, return_tensors=\"pt\", truncation=True, padding=True)\n",
    "\n",
    "# Faire la prédiction\n",
    "with torch.no_grad(): # Pas besoin de calculer les gradients pour une simple prédiction\n",
    "    outputs = model(**inputs)\n",
    "\n",
    "# Obtenir le résultat\n",
    "logits = outputs.logits\n",
    "prediction = torch.argmax(logits, dim=1).item()\n",
    "\n",
    "# Interpréter le résultat\n",
    "sentiments = ['Négatif (0)', 'Positif (1)']\n",
    "print(f\"Le tweet : '{new_tweet}'\")\n",
    "print(f\"Result: {prediction}\")\n",
    "print(f\"Prédiction : {sentiments[prediction]}\")"
   ]
  },
  {
   "cell_type": "markdown",
   "id": "mlflow-serving-title",
   "metadata": {},
   "source": [
    "## 5. Chargement et Service du Modèle avec MLflow"
   ]
  },
  {
   "cell_type": "markdown",
   "id": "mlflow-serving-intro",
   "metadata": {},
   "source": [
    "Maintenant que nous avons entraîné et sauvegardé nos modèles avec MLflow, voyons comment les réutiliser. Nous allons charger le modèle DistilBERT (qui est le plus performant) depuis le tracking server de MLflow et l'utiliser pour faire une prédiction. Ensuite, nous verrons comment le déployer en tant que service local."
   ]
  },
  {
   "cell_type": "code",
   "execution_count": 21,
   "id": "mlflow-load-predict",
   "metadata": {},
   "outputs": [
    {
     "data": {
      "application/vnd.jupyter.widget-view+json": {
       "model_id": "03619e332f124e41a1be4cc271d9d1c1",
       "version_major": 2,
       "version_minor": 0
      },
      "text/plain": [
       "Downloading artifacts:   0%|          | 0/1 [00:00<?, ?it/s]"
      ]
     },
     "metadata": {},
     "output_type": "display_data"
    },
    {
     "data": {
      "application/vnd.jupyter.widget-view+json": {
       "model_id": "72d306be78ce4245a3c3aa424a17cf8a",
       "version_major": 2,
       "version_minor": 0
      },
      "text/plain": [
       "Downloading artifacts:   0%|          | 0/13 [00:00<?, ?it/s]"
      ]
     },
     "metadata": {},
     "output_type": "display_data"
    },
    {
     "name": "stderr",
     "output_type": "stream",
     "text": [
      "`torch_dtype` is deprecated! Use `dtype` instead!\n",
      "`torch_dtype` is deprecated! Use `dtype` instead!\n",
      "Device set to use cpu\n"
     ]
    },
    {
     "ename": "PipelineException",
     "evalue": "No mask_token ([MASK]) found on the input",
     "output_type": "error",
     "traceback": [
      "\u001b[31m---------------------------------------------------------------------------\u001b[39m",
      "\u001b[31mPipelineException\u001b[39m                         Traceback (most recent call last)",
      "\u001b[36mCell\u001b[39m\u001b[36m \u001b[39m\u001b[32mIn[21]\u001b[39m\u001b[32m, line 20\u001b[39m\n\u001b[32m     17\u001b[39m prediction_data = pd.DataFrame([new_tweet], columns=[\u001b[33m\"\u001b[39m\u001b[33mtext\u001b[39m\u001b[33m\"\u001b[39m])\n\u001b[32m     19\u001b[39m \u001b[38;5;66;03m# Faire une prédiction\u001b[39;00m\n\u001b[32m---> \u001b[39m\u001b[32m20\u001b[39m prediction = \u001b[43mloaded_model\u001b[49m\u001b[43m.\u001b[49m\u001b[43mpredict\u001b[49m\u001b[43m(\u001b[49m\u001b[43mprediction_data\u001b[49m\u001b[43m)\u001b[49m\n\u001b[32m     22\u001b[39m sentiments = [\u001b[33m'\u001b[39m\u001b[33mNégatif (0)\u001b[39m\u001b[33m'\u001b[39m, \u001b[33m'\u001b[39m\u001b[33mPositif (1)\u001b[39m\u001b[33m'\u001b[39m]\n\u001b[32m     23\u001b[39m \u001b[38;5;28mprint\u001b[39m(\u001b[33mf\u001b[39m\u001b[33m\"\u001b[39m\u001b[33mTweet: \u001b[39m\u001b[33m'\u001b[39m\u001b[38;5;132;01m{\u001b[39;00mnew_tweet\u001b[38;5;132;01m}\u001b[39;00m\u001b[33m'\u001b[39m\u001b[33m\"\u001b[39m)\n",
      "\u001b[36mFile \u001b[39m\u001b[32m/usr/local/lib/python3.11/site-packages/mlflow/pyfunc/__init__.py:846\u001b[39m, in \u001b[36mPyFuncModel.predict\u001b[39m\u001b[34m(self, data, params)\u001b[39m\n\u001b[32m    844\u001b[39m \u001b[38;5;28;01mif\u001b[39;00m \u001b[38;5;28mself\u001b[39m.model_id:\n\u001b[32m    845\u001b[39m     context.update(model_id=\u001b[38;5;28mself\u001b[39m.model_id)\n\u001b[32m--> \u001b[39m\u001b[32m846\u001b[39m \u001b[38;5;28;01mreturn\u001b[39;00m \u001b[38;5;28;43mself\u001b[39;49m\u001b[43m.\u001b[49m\u001b[43m_predict\u001b[49m\u001b[43m(\u001b[49m\u001b[43mdata\u001b[49m\u001b[43m,\u001b[49m\u001b[43m \u001b[49m\u001b[43mparams\u001b[49m\u001b[43m)\u001b[49m\n",
      "\u001b[36mFile \u001b[39m\u001b[32m/usr/local/lib/python3.11/site-packages/mlflow/pyfunc/__init__.py:896\u001b[39m, in \u001b[36mPyFuncModel._predict\u001b[39m\u001b[34m(self, data, params)\u001b[39m\n\u001b[32m    894\u001b[39m params_arg = inspect.signature(\u001b[38;5;28mself\u001b[39m._predict_fn).parameters.get(\u001b[33m\"\u001b[39m\u001b[33mparams\u001b[39m\u001b[33m\"\u001b[39m)\n\u001b[32m    895\u001b[39m \u001b[38;5;28;01mif\u001b[39;00m params_arg \u001b[38;5;129;01mand\u001b[39;00m params_arg.kind != inspect.Parameter.VAR_KEYWORD:\n\u001b[32m--> \u001b[39m\u001b[32m896\u001b[39m     \u001b[38;5;28;01mreturn\u001b[39;00m \u001b[38;5;28;43mself\u001b[39;49m\u001b[43m.\u001b[49m\u001b[43m_predict_fn\u001b[49m\u001b[43m(\u001b[49m\u001b[43mdata\u001b[49m\u001b[43m,\u001b[49m\u001b[43m \u001b[49m\u001b[43mparams\u001b[49m\u001b[43m=\u001b[49m\u001b[43mparams\u001b[49m\u001b[43m)\u001b[49m\n\u001b[32m    898\u001b[39m _log_warning_if_params_not_in_predict_signature(_logger, params)\n\u001b[32m    899\u001b[39m \u001b[38;5;28;01mreturn\u001b[39;00m \u001b[38;5;28mself\u001b[39m._predict_fn(data)\n",
      "\u001b[36mFile \u001b[39m\u001b[32m/usr/local/lib/python3.11/site-packages/mlflow/transformers/__init__.py:1886\u001b[39m, in \u001b[36m_TransformersWrapper.predict\u001b[39m\u001b[34m(self, data, params)\u001b[39m\n\u001b[32m   1880\u001b[39m \u001b[38;5;28;01melif\u001b[39;00m \u001b[38;5;28misinstance\u001b[39m(input_data, \u001b[38;5;28mlist\u001b[39m) \u001b[38;5;129;01mand\u001b[39;00m \u001b[38;5;28mall\u001b[39m(\u001b[38;5;28misinstance\u001b[39m(entry, \u001b[38;5;28mdict\u001b[39m) \u001b[38;5;28;01mfor\u001b[39;00m entry \u001b[38;5;129;01min\u001b[39;00m input_data):\n\u001b[32m   1881\u001b[39m     \u001b[38;5;66;03m# Validate each dict inside an input List[Dict]\u001b[39;00m\n\u001b[32m   1882\u001b[39m     \u001b[38;5;28mall\u001b[39m(\n\u001b[32m   1883\u001b[39m         _validate_input_dictionary_contains_only_strings_and_lists_of_strings(x)\n\u001b[32m   1884\u001b[39m         \u001b[38;5;28;01mfor\u001b[39;00m x \u001b[38;5;129;01min\u001b[39;00m input_data\n\u001b[32m   1885\u001b[39m     )\n\u001b[32m-> \u001b[39m\u001b[32m1886\u001b[39m \u001b[38;5;28;01mreturn\u001b[39;00m \u001b[38;5;28;43mself\u001b[39;49m\u001b[43m.\u001b[49m\u001b[43m_predict\u001b[49m\u001b[43m(\u001b[49m\u001b[43minput_data\u001b[49m\u001b[43m,\u001b[49m\u001b[43m \u001b[49m\u001b[43mparams\u001b[49m\u001b[43m)\u001b[49m\n",
      "\u001b[36mFile \u001b[39m\u001b[32m/usr/local/lib/python3.11/site-packages/mlflow/transformers/__init__.py:1979\u001b[39m, in \u001b[36m_TransformersWrapper._predict\u001b[39m\u001b[34m(self, data, model_config)\u001b[39m\n\u001b[32m   1976\u001b[39m         return_tensors = \u001b[38;5;28;01mTrue\u001b[39;00m\n\u001b[32m   1977\u001b[39m         output_key = \u001b[33m\"\u001b[39m\u001b[33mgenerated_token_ids\u001b[39m\u001b[33m\"\u001b[39m\n\u001b[32m-> \u001b[39m\u001b[32m1979\u001b[39m     raw_output = \u001b[38;5;28;43mself\u001b[39;49m\u001b[43m.\u001b[49m\u001b[43m_validate_model_config_and_return_output\u001b[49m\u001b[43m(\u001b[49m\n\u001b[32m   1980\u001b[39m \u001b[43m        \u001b[49m\u001b[43mdata\u001b[49m\u001b[43m,\u001b[49m\u001b[43m \u001b[49m\u001b[43mmodel_config\u001b[49m\u001b[43m=\u001b[49m\u001b[43mmodel_config\u001b[49m\u001b[43m,\u001b[49m\u001b[43m \u001b[49m\u001b[43mreturn_tensors\u001b[49m\u001b[43m=\u001b[49m\u001b[43mreturn_tensors\u001b[49m\n\u001b[32m   1981\u001b[39m \u001b[43m    \u001b[49m\u001b[43m)\u001b[49m\n\u001b[32m   1983\u001b[39m \u001b[38;5;66;03m# Handle the pipeline outputs\u001b[39;00m\n\u001b[32m   1984\u001b[39m \u001b[38;5;28;01mif\u001b[39;00m \u001b[38;5;28mtype\u001b[39m(\u001b[38;5;28mself\u001b[39m.pipeline).\u001b[34m__name__\u001b[39m \u001b[38;5;129;01min\u001b[39;00m \u001b[38;5;28mself\u001b[39m._supported_custom_generator_types \u001b[38;5;129;01mor\u001b[39;00m \u001b[38;5;28misinstance\u001b[39m(\n\u001b[32m   1985\u001b[39m     \u001b[38;5;28mself\u001b[39m.pipeline, transformers.TextGenerationPipeline\n\u001b[32m   1986\u001b[39m ):\n",
      "\u001b[36mFile \u001b[39m\u001b[32m/usr/local/lib/python3.11/site-packages/mlflow/transformers/__init__.py:1806\u001b[39m, in \u001b[36m_TransformersWrapper._validate_model_config_and_return_output\u001b[39m\u001b[34m(self, data, model_config, return_tensors)\u001b[39m\n\u001b[32m   1804\u001b[39m     \u001b[38;5;28;01mif\u001b[39;00m \u001b[38;5;28misinstance\u001b[39m(data, \u001b[38;5;28mdict\u001b[39m):\n\u001b[32m   1805\u001b[39m         \u001b[38;5;28;01mreturn\u001b[39;00m \u001b[38;5;28mself\u001b[39m.pipeline(**data, **model_config)\n\u001b[32m-> \u001b[39m\u001b[32m1806\u001b[39m     \u001b[38;5;28;01mreturn\u001b[39;00m \u001b[38;5;28;43mself\u001b[39;49m\u001b[43m.\u001b[49m\u001b[43mpipeline\u001b[49m\u001b[43m(\u001b[49m\u001b[43mdata\u001b[49m\u001b[43m,\u001b[49m\u001b[43m \u001b[49m\u001b[43m*\u001b[49m\u001b[43m*\u001b[49m\u001b[43mmodel_config\u001b[49m\u001b[43m)\u001b[49m\n\u001b[32m   1807\u001b[39m \u001b[38;5;28;01mexcept\u001b[39;00m \u001b[38;5;167;01mValueError\u001b[39;00m \u001b[38;5;28;01mas\u001b[39;00m e:\n\u001b[32m   1808\u001b[39m     \u001b[38;5;28;01mif\u001b[39;00m \u001b[33m\"\u001b[39m\u001b[33mThe following `model_kwargs` are not used by the model\u001b[39m\u001b[33m\"\u001b[39m \u001b[38;5;129;01min\u001b[39;00m \u001b[38;5;28mstr\u001b[39m(e):\n",
      "\u001b[36mFile \u001b[39m\u001b[32m/usr/local/lib/python3.11/site-packages/transformers/pipelines/fill_mask.py:283\u001b[39m, in \u001b[36mFillMaskPipeline.__call__\u001b[39m\u001b[34m(self, inputs, **kwargs)\u001b[39m\n\u001b[32m    259\u001b[39m \u001b[38;5;28;01mdef\u001b[39;00m\u001b[38;5;250m \u001b[39m\u001b[34m__call__\u001b[39m(\n\u001b[32m    260\u001b[39m     \u001b[38;5;28mself\u001b[39m, inputs: Union[\u001b[38;5;28mstr\u001b[39m, \u001b[38;5;28mlist\u001b[39m[\u001b[38;5;28mstr\u001b[39m]], **kwargs: Any\n\u001b[32m    261\u001b[39m ) -> Union[\u001b[38;5;28mlist\u001b[39m[\u001b[38;5;28mdict\u001b[39m[\u001b[38;5;28mstr\u001b[39m, Any]], \u001b[38;5;28mlist\u001b[39m[\u001b[38;5;28mlist\u001b[39m[\u001b[38;5;28mdict\u001b[39m[\u001b[38;5;28mstr\u001b[39m, Any]]]]:\n\u001b[32m    262\u001b[39m \u001b[38;5;250m    \u001b[39m\u001b[33;03m\"\"\"\u001b[39;00m\n\u001b[32m    263\u001b[39m \u001b[33;03m    Fill the masked token in the text(s) given as inputs.\u001b[39;00m\n\u001b[32m    264\u001b[39m \n\u001b[32m   (...)\u001b[39m\u001b[32m    281\u001b[39m \u001b[33;03m        - **token_str** (`str`) -- The predicted token (to replace the masked one).\u001b[39;00m\n\u001b[32m    282\u001b[39m \u001b[33;03m    \"\"\"\u001b[39;00m\n\u001b[32m--> \u001b[39m\u001b[32m283\u001b[39m     outputs = \u001b[38;5;28;43msuper\u001b[39;49m\u001b[43m(\u001b[49m\u001b[43m)\u001b[49m\u001b[43m.\u001b[49m\u001b[34;43m__call__\u001b[39;49m\u001b[43m(\u001b[49m\u001b[43minputs\u001b[49m\u001b[43m,\u001b[49m\u001b[43m \u001b[49m\u001b[43m*\u001b[49m\u001b[43m*\u001b[49m\u001b[43mkwargs\u001b[49m\u001b[43m)\u001b[49m\n\u001b[32m    284\u001b[39m     \u001b[38;5;28;01mif\u001b[39;00m \u001b[38;5;28misinstance\u001b[39m(inputs, \u001b[38;5;28mlist\u001b[39m) \u001b[38;5;129;01mand\u001b[39;00m \u001b[38;5;28mlen\u001b[39m(inputs) == \u001b[32m1\u001b[39m:\n\u001b[32m    285\u001b[39m         \u001b[38;5;28;01mreturn\u001b[39;00m outputs[\u001b[32m0\u001b[39m]\n",
      "\u001b[36mFile \u001b[39m\u001b[32m/usr/local/lib/python3.11/site-packages/transformers/pipelines/base.py:1448\u001b[39m, in \u001b[36mPipeline.__call__\u001b[39m\u001b[34m(self, inputs, num_workers, batch_size, *args, **kwargs)\u001b[39m\n\u001b[32m   1444\u001b[39m \u001b[38;5;28;01mif\u001b[39;00m can_use_iterator:\n\u001b[32m   1445\u001b[39m     final_iterator = \u001b[38;5;28mself\u001b[39m.get_iterator(\n\u001b[32m   1446\u001b[39m         inputs, num_workers, batch_size, preprocess_params, forward_params, postprocess_params\n\u001b[32m   1447\u001b[39m     )\n\u001b[32m-> \u001b[39m\u001b[32m1448\u001b[39m     outputs = \u001b[38;5;28;43mlist\u001b[39;49m\u001b[43m(\u001b[49m\u001b[43mfinal_iterator\u001b[49m\u001b[43m)\u001b[49m\n\u001b[32m   1449\u001b[39m     \u001b[38;5;28;01mreturn\u001b[39;00m outputs\n\u001b[32m   1450\u001b[39m \u001b[38;5;28;01melse\u001b[39;00m:\n",
      "\u001b[36mFile \u001b[39m\u001b[32m/usr/local/lib/python3.11/site-packages/transformers/pipelines/pt_utils.py:126\u001b[39m, in \u001b[36mPipelineIterator.__next__\u001b[39m\u001b[34m(self)\u001b[39m\n\u001b[32m    123\u001b[39m     \u001b[38;5;28;01mreturn\u001b[39;00m \u001b[38;5;28mself\u001b[39m.loader_batch_item()\n\u001b[32m    125\u001b[39m \u001b[38;5;66;03m# We're out of items within a batch\u001b[39;00m\n\u001b[32m--> \u001b[39m\u001b[32m126\u001b[39m item = \u001b[38;5;28;43mnext\u001b[39;49m\u001b[43m(\u001b[49m\u001b[38;5;28;43mself\u001b[39;49m\u001b[43m.\u001b[49m\u001b[43miterator\u001b[49m\u001b[43m)\u001b[49m\n\u001b[32m    127\u001b[39m processed = \u001b[38;5;28mself\u001b[39m.infer(item, **\u001b[38;5;28mself\u001b[39m.params)\n\u001b[32m    128\u001b[39m \u001b[38;5;66;03m# We now have a batch of \"inferred things\".\u001b[39;00m\n",
      "\u001b[36mFile \u001b[39m\u001b[32m/usr/local/lib/python3.11/site-packages/transformers/pipelines/pt_utils.py:126\u001b[39m, in \u001b[36mPipelineIterator.__next__\u001b[39m\u001b[34m(self)\u001b[39m\n\u001b[32m    123\u001b[39m     \u001b[38;5;28;01mreturn\u001b[39;00m \u001b[38;5;28mself\u001b[39m.loader_batch_item()\n\u001b[32m    125\u001b[39m \u001b[38;5;66;03m# We're out of items within a batch\u001b[39;00m\n\u001b[32m--> \u001b[39m\u001b[32m126\u001b[39m item = \u001b[38;5;28;43mnext\u001b[39;49m\u001b[43m(\u001b[49m\u001b[38;5;28;43mself\u001b[39;49m\u001b[43m.\u001b[49m\u001b[43miterator\u001b[49m\u001b[43m)\u001b[49m\n\u001b[32m    127\u001b[39m processed = \u001b[38;5;28mself\u001b[39m.infer(item, **\u001b[38;5;28mself\u001b[39m.params)\n\u001b[32m    128\u001b[39m \u001b[38;5;66;03m# We now have a batch of \"inferred things\".\u001b[39;00m\n",
      "\u001b[36mFile \u001b[39m\u001b[32m/usr/local/lib/python3.11/site-packages/torch/utils/data/dataloader.py:732\u001b[39m, in \u001b[36m_BaseDataLoaderIter.__next__\u001b[39m\u001b[34m(self)\u001b[39m\n\u001b[32m    729\u001b[39m \u001b[38;5;28;01mif\u001b[39;00m \u001b[38;5;28mself\u001b[39m._sampler_iter \u001b[38;5;129;01mis\u001b[39;00m \u001b[38;5;28;01mNone\u001b[39;00m:\n\u001b[32m    730\u001b[39m     \u001b[38;5;66;03m# TODO(https://github.com/pytorch/pytorch/issues/76750)\u001b[39;00m\n\u001b[32m    731\u001b[39m     \u001b[38;5;28mself\u001b[39m._reset()  \u001b[38;5;66;03m# type: ignore[call-arg]\u001b[39;00m\n\u001b[32m--> \u001b[39m\u001b[32m732\u001b[39m data = \u001b[38;5;28;43mself\u001b[39;49m\u001b[43m.\u001b[49m\u001b[43m_next_data\u001b[49m\u001b[43m(\u001b[49m\u001b[43m)\u001b[49m\n\u001b[32m    733\u001b[39m \u001b[38;5;28mself\u001b[39m._num_yielded += \u001b[32m1\u001b[39m\n\u001b[32m    734\u001b[39m \u001b[38;5;28;01mif\u001b[39;00m (\n\u001b[32m    735\u001b[39m     \u001b[38;5;28mself\u001b[39m._dataset_kind == _DatasetKind.Iterable\n\u001b[32m    736\u001b[39m     \u001b[38;5;129;01mand\u001b[39;00m \u001b[38;5;28mself\u001b[39m._IterableDataset_len_called \u001b[38;5;129;01mis\u001b[39;00m \u001b[38;5;129;01mnot\u001b[39;00m \u001b[38;5;28;01mNone\u001b[39;00m\n\u001b[32m    737\u001b[39m     \u001b[38;5;129;01mand\u001b[39;00m \u001b[38;5;28mself\u001b[39m._num_yielded > \u001b[38;5;28mself\u001b[39m._IterableDataset_len_called\n\u001b[32m    738\u001b[39m ):\n",
      "\u001b[36mFile \u001b[39m\u001b[32m/usr/local/lib/python3.11/site-packages/torch/utils/data/dataloader.py:788\u001b[39m, in \u001b[36m_SingleProcessDataLoaderIter._next_data\u001b[39m\u001b[34m(self)\u001b[39m\n\u001b[32m    786\u001b[39m \u001b[38;5;28;01mdef\u001b[39;00m\u001b[38;5;250m \u001b[39m\u001b[34m_next_data\u001b[39m(\u001b[38;5;28mself\u001b[39m):\n\u001b[32m    787\u001b[39m     index = \u001b[38;5;28mself\u001b[39m._next_index()  \u001b[38;5;66;03m# may raise StopIteration\u001b[39;00m\n\u001b[32m--> \u001b[39m\u001b[32m788\u001b[39m     data = \u001b[38;5;28;43mself\u001b[39;49m\u001b[43m.\u001b[49m\u001b[43m_dataset_fetcher\u001b[49m\u001b[43m.\u001b[49m\u001b[43mfetch\u001b[49m\u001b[43m(\u001b[49m\u001b[43mindex\u001b[49m\u001b[43m)\u001b[49m  \u001b[38;5;66;03m# may raise StopIteration\u001b[39;00m\n\u001b[32m    789\u001b[39m     \u001b[38;5;28;01mif\u001b[39;00m \u001b[38;5;28mself\u001b[39m._pin_memory:\n\u001b[32m    790\u001b[39m         data = _utils.pin_memory.pin_memory(data, \u001b[38;5;28mself\u001b[39m._pin_memory_device)\n",
      "\u001b[36mFile \u001b[39m\u001b[32m/usr/local/lib/python3.11/site-packages/torch/utils/data/_utils/fetch.py:52\u001b[39m, in \u001b[36m_MapDatasetFetcher.fetch\u001b[39m\u001b[34m(self, possibly_batched_index)\u001b[39m\n\u001b[32m     50\u001b[39m         data = \u001b[38;5;28mself\u001b[39m.dataset.__getitems__(possibly_batched_index)\n\u001b[32m     51\u001b[39m     \u001b[38;5;28;01melse\u001b[39;00m:\n\u001b[32m---> \u001b[39m\u001b[32m52\u001b[39m         data = \u001b[43m[\u001b[49m\u001b[38;5;28;43mself\u001b[39;49m\u001b[43m.\u001b[49m\u001b[43mdataset\u001b[49m\u001b[43m[\u001b[49m\u001b[43midx\u001b[49m\u001b[43m]\u001b[49m\u001b[43m \u001b[49m\u001b[38;5;28;43;01mfor\u001b[39;49;00m\u001b[43m \u001b[49m\u001b[43midx\u001b[49m\u001b[43m \u001b[49m\u001b[38;5;129;43;01min\u001b[39;49;00m\u001b[43m \u001b[49m\u001b[43mpossibly_batched_index\u001b[49m\u001b[43m]\u001b[49m\n\u001b[32m     53\u001b[39m \u001b[38;5;28;01melse\u001b[39;00m:\n\u001b[32m     54\u001b[39m     data = \u001b[38;5;28mself\u001b[39m.dataset[possibly_batched_index]\n",
      "\u001b[36mFile \u001b[39m\u001b[32m/usr/local/lib/python3.11/site-packages/torch/utils/data/_utils/fetch.py:52\u001b[39m, in \u001b[36m<listcomp>\u001b[39m\u001b[34m(.0)\u001b[39m\n\u001b[32m     50\u001b[39m         data = \u001b[38;5;28mself\u001b[39m.dataset.__getitems__(possibly_batched_index)\n\u001b[32m     51\u001b[39m     \u001b[38;5;28;01melse\u001b[39;00m:\n\u001b[32m---> \u001b[39m\u001b[32m52\u001b[39m         data = [\u001b[38;5;28;43mself\u001b[39;49m\u001b[43m.\u001b[49m\u001b[43mdataset\u001b[49m\u001b[43m[\u001b[49m\u001b[43midx\u001b[49m\u001b[43m]\u001b[49m \u001b[38;5;28;01mfor\u001b[39;00m idx \u001b[38;5;129;01min\u001b[39;00m possibly_batched_index]\n\u001b[32m     53\u001b[39m \u001b[38;5;28;01melse\u001b[39;00m:\n\u001b[32m     54\u001b[39m     data = \u001b[38;5;28mself\u001b[39m.dataset[possibly_batched_index]\n",
      "\u001b[36mFile \u001b[39m\u001b[32m/usr/local/lib/python3.11/site-packages/transformers/pipelines/pt_utils.py:19\u001b[39m, in \u001b[36mPipelineDataset.__getitem__\u001b[39m\u001b[34m(self, i)\u001b[39m\n\u001b[32m     17\u001b[39m \u001b[38;5;28;01mdef\u001b[39;00m\u001b[38;5;250m \u001b[39m\u001b[34m__getitem__\u001b[39m(\u001b[38;5;28mself\u001b[39m, i):\n\u001b[32m     18\u001b[39m     item = \u001b[38;5;28mself\u001b[39m.dataset[i]\n\u001b[32m---> \u001b[39m\u001b[32m19\u001b[39m     processed = \u001b[38;5;28;43mself\u001b[39;49m\u001b[43m.\u001b[49m\u001b[43mprocess\u001b[49m\u001b[43m(\u001b[49m\u001b[43mitem\u001b[49m\u001b[43m,\u001b[49m\u001b[43m \u001b[49m\u001b[43m*\u001b[49m\u001b[43m*\u001b[49m\u001b[38;5;28;43mself\u001b[39;49m\u001b[43m.\u001b[49m\u001b[43mparams\u001b[49m\u001b[43m)\u001b[49m\n\u001b[32m     20\u001b[39m     \u001b[38;5;28;01mreturn\u001b[39;00m processed\n",
      "\u001b[36mFile \u001b[39m\u001b[32m/usr/local/lib/python3.11/site-packages/transformers/pipelines/fill_mask.py:128\u001b[39m, in \u001b[36mFillMaskPipeline.preprocess\u001b[39m\u001b[34m(self, inputs, return_tensors, tokenizer_kwargs, **preprocess_parameters)\u001b[39m\n\u001b[32m    125\u001b[39m     tokenizer_kwargs = {}\n\u001b[32m    127\u001b[39m model_inputs = \u001b[38;5;28mself\u001b[39m.tokenizer(inputs, return_tensors=return_tensors, **tokenizer_kwargs)\n\u001b[32m--> \u001b[39m\u001b[32m128\u001b[39m \u001b[38;5;28;43mself\u001b[39;49m\u001b[43m.\u001b[49m\u001b[43mensure_exactly_one_mask_token\u001b[49m\u001b[43m(\u001b[49m\u001b[43mmodel_inputs\u001b[49m\u001b[43m)\u001b[49m\n\u001b[32m    129\u001b[39m \u001b[38;5;28;01mreturn\u001b[39;00m model_inputs\n",
      "\u001b[36mFile \u001b[39m\u001b[32m/usr/local/lib/python3.11/site-packages/transformers/pipelines/fill_mask.py:117\u001b[39m, in \u001b[36mFillMaskPipeline.ensure_exactly_one_mask_token\u001b[39m\u001b[34m(self, model_inputs)\u001b[39m\n\u001b[32m    115\u001b[39m \u001b[38;5;28;01melse\u001b[39;00m:\n\u001b[32m    116\u001b[39m     \u001b[38;5;28;01mfor\u001b[39;00m input_ids \u001b[38;5;129;01min\u001b[39;00m model_inputs[\u001b[33m\"\u001b[39m\u001b[33minput_ids\u001b[39m\u001b[33m\"\u001b[39m]:\n\u001b[32m--> \u001b[39m\u001b[32m117\u001b[39m         \u001b[38;5;28;43mself\u001b[39;49m\u001b[43m.\u001b[49m\u001b[43m_ensure_exactly_one_mask_token\u001b[49m\u001b[43m(\u001b[49m\u001b[43minput_ids\u001b[49m\u001b[43m)\u001b[49m\n",
      "\u001b[36mFile \u001b[39m\u001b[32m/usr/local/lib/python3.11/site-packages/transformers/pipelines/fill_mask.py:105\u001b[39m, in \u001b[36mFillMaskPipeline._ensure_exactly_one_mask_token\u001b[39m\u001b[34m(self, input_ids)\u001b[39m\n\u001b[32m    103\u001b[39m numel = np.prod(masked_index.shape)\n\u001b[32m    104\u001b[39m \u001b[38;5;28;01mif\u001b[39;00m numel < \u001b[32m1\u001b[39m:\n\u001b[32m--> \u001b[39m\u001b[32m105\u001b[39m     \u001b[38;5;28;01mraise\u001b[39;00m PipelineException(\n\u001b[32m    106\u001b[39m         \u001b[33m\"\u001b[39m\u001b[33mfill-mask\u001b[39m\u001b[33m\"\u001b[39m,\n\u001b[32m    107\u001b[39m         \u001b[38;5;28mself\u001b[39m.model.base_model_prefix,\n\u001b[32m    108\u001b[39m         \u001b[33mf\u001b[39m\u001b[33m\"\u001b[39m\u001b[33mNo mask_token (\u001b[39m\u001b[38;5;132;01m{\u001b[39;00m\u001b[38;5;28mself\u001b[39m.tokenizer.mask_token\u001b[38;5;132;01m}\u001b[39;00m\u001b[33m) found on the input\u001b[39m\u001b[33m\"\u001b[39m,\n\u001b[32m    109\u001b[39m     )\n",
      "\u001b[31mPipelineException\u001b[39m: No mask_token ([MASK]) found on the input"
     ]
    }
   ],
   "source": [
    "import mlflow\n",
    "import pandas as pd\n",
    "\n",
    "# Récupérer la dernière exécution (run) de l'expérience\n",
    "runs = mlflow.search_runs(experiment_names=[experiment_name], order_by=[\"start_time DESC\"], max_results=1)\n",
    "last_run_id = runs.iloc[0]['run_id']\n",
    "\n",
    "# Construire l'URI du modèle\n",
    "model_uri = f\"runs:/{last_run_id}/distilbert_sentiment_model\"\n",
    "\n",
    "# Charger le modèle en tant que fonction PyFunc\n",
    "# PyFunc est un format générique qui permet à MLflow de servir n'importe quel modèle Python\n",
    "loaded_model = mlflow.pyfunc.load_model(model_uri)\n",
    "\n",
    "# Préparer une nouvelle donnée pour la prédiction\n",
    "new_tweet = \"This is the worst flight experience I have ever had.\"\n",
    "prediction_data = pd.DataFrame([new_tweet], columns=[\"text\"])\n",
    "\n",
    "# Faire une prédiction\n",
    "prediction = loaded_model.predict(prediction_data)\n",
    "\n",
    "sentiments = ['Négatif (0)', 'Positif (1)']\n",
    "print(f\"Tweet: '{new_tweet}'\")\n",
    "print(f\"Prédiction : {sentiments[prediction[0]]}\")"
   ]
  },
  {
   "cell_type": "markdown",
   "id": "mlflow-serving-cli",
   "metadata": {},
   "source": [
    "### Démarrer un serveur de prédiction local\n",
    "\n",
    "MLflow facilite également le déploiement d'un modèle en tant que service REST API. Pour démarrer un serveur local qui sert notre modèle DistilBERT, vous pouvez exécuter la commande suivante dans votre terminal (en vous assurant que l'environnement où MLflow est installé est activé) :\n",
    "\n",
    "```bash\n",
    "# La variable MLFLOW_TRACKING_URI doit pointer vers votre serveur de suivi\n",
    "export MLFLOW_TRACKING_URI=file:///home/samuel/mlflow_data\n",
    "\n",
    "# Servez le modèle à partir de son URI\n",
    "mlflow models serve -m \"runs:/<RUN_ID>/distilbert_sentiment_model\" -p 1234\n",
    "```\n",
    "\n",
    "Remplacez `<RUN_ID>` par l'ID de l'exécution que vous souhaitez servir (par exemple, celui que nous avons récupéré dans la cellule précédente). Une fois le serveur démarré, vous pouvez lui envoyer des requêtes POST pour obtenir des prédictions, par exemple avec `curl` :\n",
    "\n",
    "```bash\n",
    "curl -X POST -H \"Content-Type:application/json\" --data '{\"dataframe_split\": {\"columns\":[\"text\"], \"data\":[[\"I love MLflow!\"]]}}' http://127.0.0.1:1234/invocations\n",
    "```\n",
    "\n",
    "Cela conclut notre tour d'horizon de l'intégration de MLflow pour le suivi, la gestion et le déploiement de modèles."
   ]
  }
 ],
 "metadata": {
  "kernelspec": {
   "display_name": "Python 3 (ipykernel)",
   "language": "python",
   "name": "python3"
  },
  "language_info": {
   "codemirror_mode": {
    "name": "ipython",
    "version": 3
   },
   "file_extension": ".py",
   "mimetype": "text/x-python",
   "name": "python",
   "nbconvert_exporter": "python",
   "pygments_lexer": "ipython3",
   "version": "3.11.13"
  }
 },
 "nbformat": 4,
 "nbformat_minor": 5
}
